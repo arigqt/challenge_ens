{
 "cells": [
  {
   "cell_type": "markdown",
   "metadata": {},
   "source": [
    "### Librairies import"
   ]
  },
  {
   "cell_type": "code",
   "execution_count": 4,
   "metadata": {},
   "outputs": [
    {
     "ename": "ModuleNotFoundError",
     "evalue": "No module named 'tensorflow.python'",
     "output_type": "error",
     "traceback": [
      "\u001b[1;31m---------------------------------------------------------------------------\u001b[0m",
      "\u001b[1;31mModuleNotFoundError\u001b[0m                       Traceback (most recent call last)",
      "Cell \u001b[1;32mIn [4], line 6\u001b[0m\n\u001b[0;32m      3\u001b[0m \u001b[38;5;28;01mimport\u001b[39;00m \u001b[38;5;21;01mos\u001b[39;00m\n\u001b[0;32m      4\u001b[0m \u001b[38;5;28;01mfrom\u001b[39;00m \u001b[38;5;21;01mmatplotlib\u001b[39;00m \u001b[38;5;28;01mimport\u001b[39;00m pyplot \u001b[38;5;28;01mas\u001b[39;00m plt\n\u001b[1;32m----> 6\u001b[0m \u001b[38;5;28;01mfrom\u001b[39;00m \u001b[38;5;21;01mtensorflow\u001b[39;00m \u001b[38;5;28;01mimport\u001b[39;00m keras\n",
      "File \u001b[1;32m~\\AppData\\Local\\Packages\\PythonSoftwareFoundation.Python.3.9_qbz5n2kfra8p0\\LocalCache\\local-packages\\Python39\\site-packages\\tensorflow\\__init__.py:37\u001b[0m\n\u001b[0;32m     34\u001b[0m \u001b[38;5;28;01mimport\u001b[39;00m \u001b[38;5;21;01msys\u001b[39;00m \u001b[38;5;28;01mas\u001b[39;00m \u001b[38;5;21;01m_sys\u001b[39;00m\n\u001b[0;32m     35\u001b[0m \u001b[38;5;28;01mimport\u001b[39;00m \u001b[38;5;21;01mtyping\u001b[39;00m \u001b[38;5;28;01mas\u001b[39;00m \u001b[38;5;21;01m_typing\u001b[39;00m\n\u001b[1;32m---> 37\u001b[0m \u001b[38;5;28;01mfrom\u001b[39;00m \u001b[38;5;21;01mtensorflow\u001b[39;00m\u001b[38;5;21;01m.\u001b[39;00m\u001b[38;5;21;01mpython\u001b[39;00m\u001b[38;5;21;01m.\u001b[39;00m\u001b[38;5;21;01mtools\u001b[39;00m \u001b[38;5;28;01mimport\u001b[39;00m module_util \u001b[38;5;28;01mas\u001b[39;00m _module_util\n\u001b[0;32m     38\u001b[0m \u001b[38;5;28;01mfrom\u001b[39;00m \u001b[38;5;21;01mtensorflow\u001b[39;00m\u001b[38;5;21;01m.\u001b[39;00m\u001b[38;5;21;01mpython\u001b[39;00m\u001b[38;5;21;01m.\u001b[39;00m\u001b[38;5;21;01mutil\u001b[39;00m\u001b[38;5;21;01m.\u001b[39;00m\u001b[38;5;21;01mlazy_loader\u001b[39;00m \u001b[38;5;28;01mimport\u001b[39;00m LazyLoader \u001b[38;5;28;01mas\u001b[39;00m _LazyLoader\n\u001b[0;32m     40\u001b[0m \u001b[38;5;66;03m# Make sure code inside the TensorFlow codebase can use tf2.enabled() at import.\u001b[39;00m\n",
      "\u001b[1;31mModuleNotFoundError\u001b[0m: No module named 'tensorflow.python'"
     ]
    }
   ],
   "source": [
    "import pandas as pd\n",
    "import numpy as np\n",
    "import os\n",
    "from matplotlib import pyplot as plt\n",
    "\n",
    "from tensorflow import keras"
   ]
  },
  {
   "cell_type": "markdown",
   "metadata": {},
   "source": [
    "### Datasets import "
   ]
  },
  {
   "cell_type": "code",
   "execution_count": 2,
   "metadata": {},
   "outputs": [],
   "source": [
    "from utils import get_data, plot_slice_seg, rand_index_dataset, prediction_to_df"
   ]
  },
  {
   "cell_type": "code",
   "execution_count": 3,
   "metadata": {},
   "outputs": [
    {
     "name": "stdout",
     "output_type": "stream",
     "text": [
      "#### X_train collected ####\n",
      "#### X_test collected ####\n",
      "#### y_train collected ####\n"
     ]
    }
   ],
   "source": [
    "X_train, X_test, y_train = get_data()"
   ]
  },
  {
   "cell_type": "markdown",
   "metadata": {},
   "source": [
    "### U-Net"
   ]
  },
  {
   "cell_type": "code",
   "execution_count": 28,
   "metadata": {},
   "outputs": [],
   "source": [
    "def UNet():\n",
    "  def DoubleConvolution(filters, inputs):\n",
    "    \"\"\"\n",
    "    filters : outputs filter dimension\n",
    "    inputs : input tensor\n",
    "    \"\"\"\n",
    "    y = keras.layers.Conv2D(filters = filters, kernel_size = (3,3), padding = 'same', activation='relu')(inputs)\n",
    "    y = keras.layers.Conv2D(filters = filters, kernel_size = (3,3), padding = 'same', activation='relu')(y)\n",
    "    return y\n",
    "\n",
    "  def DownSample(filters, inputs):\n",
    "    \"\"\"\n",
    "    filters : outputs filter dimension\n",
    "    inputs : input tensor\n",
    "    \"\"\"\n",
    "    y = keras.layers.MaxPooling2D(pool_size = (2, 2), padding='valid')(inputs)\n",
    "    y = DoubleConvolution(filters, y)\n",
    "    return y\n",
    "\n",
    "  def UpSample(filters, inputs):\n",
    "    \"\"\"\n",
    "    filters : outputs filter dimension\n",
    "    inputs : input tensor\n",
    "    \"\"\"\n",
    "    y = keras.layers.UpSampling2D(size=(2, 2))(inputs)\n",
    "    y = keras.layers.Conv2D(filters = filters, kernel_size = (3,3), padding = 'same', activation='relu')(y)\n",
    "    return Out\n",
    "       \n",
    "  def ResidualConnection(filters, input_1, input_2):\n",
    "    \"\"\"\n",
    "    filters : outputs filter dimension\n",
    "    input_1 : first input\n",
    "    input_2 : second input\n",
    "    \"\"\"\n",
    "    y = keras.layers.Concatenate(axis=-1)([input_1, input_2])\n",
    "    y = DoubleConvolution(filters, y)\n",
    "    return y  \n",
    "\n",
    "  Input = keras.layers.Input( shape=(800,800,3) )     # shape = (800,800,3)\n",
    "\n",
    "  # Contraction/Downsampling path\n",
    "  Conv0 = DoubleConvolution(64, Input)                  # shape = (800,800,64)\n",
    "  Conv1 = DownSample(128, Conv0)                # shape = (400,400,128)\n",
    "  Conv2 = DownSample(256, Conv0)                # shape = (200,200,256)\n",
    "  Conv3 = DownSample(512, Conv0)                # shape = (100,100,512)\n",
    "   \n",
    "  # Expensive/Upsampling path\n",
    "  UpConv2 = UpSample(256, Conv3)              # shape = (200,200,256)\n",
    "  Res2 = ResidualConnection(256, Conv2, UpConv2)      # shape = (200,200,256)\n",
    "   \n",
    "  UpConv1 = UpSample(128, Res2)             # shape = (400,400,128)\n",
    "  Res1 = ResidualConnection(128, Conv1, UpConv1)      # shape = (400,400,128)\n",
    "   \n",
    "  UpConv0 = UpSample(64, Res1)              # shape = (800,800,64)\n",
    "  Res0 = ResidualConnection(64, Conv0, UpConv0)     # shape = (800,800,64)\n",
    "\n",
    "  Output = keras.layers.Dense(units = 2, activation='softmax')(UpConv1)   # shape = (800,800,2)\n",
    "\n",
    "  return keras.models.Model( Input, Output )"
   ]
  },
  {
   "cell_type": "code",
   "execution_count": 30,
   "metadata": {},
   "outputs": [],
   "source": [
    "block1 = Block(3, 3)\n",
    "enc1 = UEnc(10)\n",
    "dec1 = UDec(10)\n",
    "WNet1 = WNet(10)"
   ]
  },
  {
   "cell_type": "markdown",
   "metadata": {},
   "source": [
    "### Now, we have to create the loss functions "
   ]
  },
  {
   "cell_type": "code",
   "execution_count": null,
   "metadata": {},
   "outputs": [],
   "source": []
  },
  {
   "cell_type": "markdown",
   "metadata": {},
   "source": [
    "### Convert our datasets with pytorch trainloader "
   ]
  },
  {
   "cell_type": "code",
   "execution_count": 33,
   "metadata": {},
   "outputs": [],
   "source": [
    "batch_size = 64\n",
    "\n",
    "trainloader = torch.utils.data.DataLoader(X_train, batch_size=batch_size,\n",
    "                                          shuffle=True, num_workers=2)\n",
    "\n",
    "testloader = torch.utils.data.DataLoader(X_test, batch_size=batch_size,\n",
    "                                         shuffle=False, num_workers=2)\n"
   ]
  },
  {
   "cell_type": "markdown",
   "metadata": {},
   "source": [
    "### Now, let's train the model "
   ]
  },
  {
   "cell_type": "code",
   "execution_count": 38,
   "metadata": {},
   "outputs": [],
   "source": [
    "import torch.optim as optim"
   ]
  }
 ],
 "metadata": {
  "kernelspec": {
   "display_name": "Python 3 (ipykernel)",
   "language": "python",
   "name": "python3"
  },
  "language_info": {
   "codemirror_mode": {
    "name": "ipython",
    "version": 3
   },
   "file_extension": ".py",
   "mimetype": "text/x-python",
   "name": "python",
   "nbconvert_exporter": "python",
   "pygments_lexer": "ipython3",
   "version": "3.9.13"
  },
  "vscode": {
   "interpreter": {
    "hash": "15fd02e5c878be06348de4aa47e758028f61ec77ef5ce2a754b2cbd26a6e5956"
   }
  }
 },
 "nbformat": 4,
 "nbformat_minor": 2
}
