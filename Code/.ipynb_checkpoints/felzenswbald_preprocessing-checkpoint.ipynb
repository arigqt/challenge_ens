{
 "cells": [
  {
   "cell_type": "code",
   "execution_count": 2,
   "metadata": {},
   "outputs": [],
   "source": [
    "import matplotlib.pyplot as plt\n",
    "import numpy as np\n",
    "\n",
    "from skimage.color import rgb2gray\n",
    "from skimage.filters import sobel\n",
    "from skimage.segmentation import felzenszwalb, slic, quickshift, watershed\n",
    "from skimage.segmentation import mark_boundaries\n",
    "from skimage.util import img_as_float"
   ]
  },
  {
   "cell_type": "code",
   "execution_count": 3,
   "metadata": {},
   "outputs": [],
   "source": [
    "from utils import get_data, plot_slice_seg, rand_index_dataset, prediction_to_df, df_get_ith_image"
   ]
  },
  {
   "cell_type": "code",
   "execution_count": 4,
   "metadata": {},
   "outputs": [
    {
     "name": "stdout",
     "output_type": "stream",
     "text": [
      "#### X_train collected ####\n",
      "#### X_test collected ####\n",
      "#### y_train collected ####\n"
     ]
    }
   ],
   "source": [
    "X_train, X_test, y_train = get_data()"
   ]
  },
  {
   "cell_type": "code",
   "execution_count": 5,
   "metadata": {},
   "outputs": [
    {
     "ename": "ValueError",
     "evalue": "the input array must have size 3 along `channel_axis`, got (512, 512, 1)",
     "output_type": "error",
     "traceback": [
      "\u001b[1;31m---------------------------------------------------------------------------\u001b[0m",
      "\u001b[1;31mValueError\u001b[0m                                Traceback (most recent call last)",
      "Cell \u001b[1;32mIn [5], line 6\u001b[0m\n\u001b[0;32m      3\u001b[0m segments_fz \u001b[38;5;241m=\u001b[39m felzenszwalb(img, scale\u001b[38;5;241m=\u001b[39m\u001b[38;5;241m100\u001b[39m, sigma\u001b[38;5;241m=\u001b[39m\u001b[38;5;241m0.5\u001b[39m, min_size\u001b[38;5;241m=\u001b[39m\u001b[38;5;241m50\u001b[39m)\n\u001b[0;32m      4\u001b[0m segments_slic \u001b[38;5;241m=\u001b[39m slic(img, n_segments\u001b[38;5;241m=\u001b[39m\u001b[38;5;241m250\u001b[39m, compactness\u001b[38;5;241m=\u001b[39m\u001b[38;5;241m10\u001b[39m, sigma\u001b[38;5;241m=\u001b[39m\u001b[38;5;241m1\u001b[39m,\n\u001b[0;32m      5\u001b[0m                      start_label\u001b[38;5;241m=\u001b[39m\u001b[38;5;241m1\u001b[39m)\n\u001b[1;32m----> 6\u001b[0m segments_quick \u001b[38;5;241m=\u001b[39m \u001b[43mquickshift\u001b[49m\u001b[43m(\u001b[49m\u001b[43mimg\u001b[49m\u001b[43m,\u001b[49m\u001b[43m \u001b[49m\u001b[43mkernel_size\u001b[49m\u001b[38;5;241;43m=\u001b[39;49m\u001b[38;5;241;43m3\u001b[39;49m\u001b[43m,\u001b[49m\u001b[43m \u001b[49m\u001b[43mmax_dist\u001b[49m\u001b[38;5;241;43m=\u001b[39;49m\u001b[38;5;241;43m6\u001b[39;49m\u001b[43m,\u001b[49m\u001b[43m \u001b[49m\u001b[43mratio\u001b[49m\u001b[38;5;241;43m=\u001b[39;49m\u001b[38;5;241;43m0.5\u001b[39;49m\u001b[43m)\u001b[49m\n\u001b[0;32m      7\u001b[0m gradient \u001b[38;5;241m=\u001b[39m sobel(rgb2gray(img))\n\u001b[0;32m      8\u001b[0m segments_watershed \u001b[38;5;241m=\u001b[39m watershed(gradient, markers\u001b[38;5;241m=\u001b[39m\u001b[38;5;241m250\u001b[39m, compactness\u001b[38;5;241m=\u001b[39m\u001b[38;5;241m0.001\u001b[39m)\n",
      "File \u001b[1;32m~\\AppData\\Local\\Packages\\PythonSoftwareFoundation.Python.3.9_qbz5n2kfra8p0\\LocalCache\\local-packages\\Python39\\site-packages\\skimage\\segmentation\\_quickshift.py:76\u001b[0m, in \u001b[0;36mquickshift\u001b[1;34m(image, ratio, kernel_size, max_dist, return_tree, sigma, convert2lab, random_seed, channel_axis)\u001b[0m\n\u001b[0;32m     74\u001b[0m     \u001b[38;5;28;01mif\u001b[39;00m image\u001b[38;5;241m.\u001b[39mshape[\u001b[38;5;241m-\u001b[39m\u001b[38;5;241m1\u001b[39m] \u001b[38;5;241m!=\u001b[39m \u001b[38;5;241m3\u001b[39m:\n\u001b[0;32m     75\u001b[0m         \u001b[38;5;167;01mValueError\u001b[39;00m(\u001b[38;5;124m\"\u001b[39m\u001b[38;5;124mOnly RGB images can be converted to Lab space.\u001b[39m\u001b[38;5;124m\"\u001b[39m)\n\u001b[1;32m---> 76\u001b[0m     image \u001b[38;5;241m=\u001b[39m \u001b[43mrgb2lab\u001b[49m\u001b[43m(\u001b[49m\u001b[43mimage\u001b[49m\u001b[43m)\u001b[49m\n\u001b[0;32m     78\u001b[0m \u001b[38;5;28;01mif\u001b[39;00m kernel_size \u001b[38;5;241m<\u001b[39m \u001b[38;5;241m1\u001b[39m:\n\u001b[0;32m     79\u001b[0m     \u001b[38;5;28;01mraise\u001b[39;00m \u001b[38;5;167;01mValueError\u001b[39;00m(\u001b[38;5;124m\"\u001b[39m\u001b[38;5;124m`kernel_size` should be >= 1.\u001b[39m\u001b[38;5;124m\"\u001b[39m)\n",
      "File \u001b[1;32m~\\AppData\\Local\\Packages\\PythonSoftwareFoundation.Python.3.9_qbz5n2kfra8p0\\LocalCache\\local-packages\\Python39\\site-packages\\skimage\\_shared\\utils.py:394\u001b[0m, in \u001b[0;36mchannel_as_last_axis.__call__.<locals>.fixed_func\u001b[1;34m(*args, **kwargs)\u001b[0m\n\u001b[0;32m    391\u001b[0m channel_axis \u001b[38;5;241m=\u001b[39m kwargs\u001b[38;5;241m.\u001b[39mget(\u001b[38;5;124m'\u001b[39m\u001b[38;5;124mchannel_axis\u001b[39m\u001b[38;5;124m'\u001b[39m, \u001b[38;5;28;01mNone\u001b[39;00m)\n\u001b[0;32m    393\u001b[0m \u001b[38;5;28;01mif\u001b[39;00m channel_axis \u001b[38;5;129;01mis\u001b[39;00m \u001b[38;5;28;01mNone\u001b[39;00m:\n\u001b[1;32m--> 394\u001b[0m     \u001b[38;5;28;01mreturn\u001b[39;00m func(\u001b[38;5;241m*\u001b[39margs, \u001b[38;5;241m*\u001b[39m\u001b[38;5;241m*\u001b[39mkwargs)\n\u001b[0;32m    396\u001b[0m \u001b[38;5;66;03m# TODO: convert scalars to a tuple in anticipation of eventually\u001b[39;00m\n\u001b[0;32m    397\u001b[0m \u001b[38;5;66;03m#       supporting a tuple of channel axes. Right now, only an\u001b[39;00m\n\u001b[0;32m    398\u001b[0m \u001b[38;5;66;03m#       integer or a single-element tuple is supported, though.\u001b[39;00m\n\u001b[0;32m    399\u001b[0m \u001b[38;5;28;01mif\u001b[39;00m np\u001b[38;5;241m.\u001b[39misscalar(channel_axis):\n",
      "File \u001b[1;32m~\\AppData\\Local\\Packages\\PythonSoftwareFoundation.Python.3.9_qbz5n2kfra8p0\\LocalCache\\local-packages\\Python39\\site-packages\\skimage\\color\\colorconv.py:1139\u001b[0m, in \u001b[0;36mrgb2lab\u001b[1;34m(rgb, illuminant, observer, channel_axis)\u001b[0m\n\u001b[0;32m   1093\u001b[0m \u001b[38;5;129m@channel_as_last_axis\u001b[39m()\n\u001b[0;32m   1094\u001b[0m \u001b[38;5;28;01mdef\u001b[39;00m \u001b[38;5;21mrgb2lab\u001b[39m(rgb, illuminant\u001b[38;5;241m=\u001b[39m\u001b[38;5;124m\"\u001b[39m\u001b[38;5;124mD65\u001b[39m\u001b[38;5;124m\"\u001b[39m, observer\u001b[38;5;241m=\u001b[39m\u001b[38;5;124m\"\u001b[39m\u001b[38;5;124m2\u001b[39m\u001b[38;5;124m\"\u001b[39m, \u001b[38;5;241m*\u001b[39m, channel_axis\u001b[38;5;241m=\u001b[39m\u001b[38;5;241m-\u001b[39m\u001b[38;5;241m1\u001b[39m):\n\u001b[0;32m   1095\u001b[0m     \u001b[38;5;124;03m\"\"\"Conversion from the sRGB color space (IEC 61966-2-1:1999)\u001b[39;00m\n\u001b[0;32m   1096\u001b[0m \u001b[38;5;124;03m    to the CIE Lab colorspace under the given illuminant and observer.\u001b[39;00m\n\u001b[0;32m   1097\u001b[0m \n\u001b[1;32m   (...)\u001b[0m\n\u001b[0;32m   1137\u001b[0m \u001b[38;5;124;03m    .. [1] https://en.wikipedia.org/wiki/Standard_illuminant\u001b[39;00m\n\u001b[0;32m   1138\u001b[0m \u001b[38;5;124;03m    \"\"\"\u001b[39;00m\n\u001b[1;32m-> 1139\u001b[0m     \u001b[38;5;28;01mreturn\u001b[39;00m xyz2lab(\u001b[43mrgb2xyz\u001b[49m\u001b[43m(\u001b[49m\u001b[43mrgb\u001b[49m\u001b[43m)\u001b[49m, illuminant, observer)\n",
      "File \u001b[1;32m~\\AppData\\Local\\Packages\\PythonSoftwareFoundation.Python.3.9_qbz5n2kfra8p0\\LocalCache\\local-packages\\Python39\\site-packages\\skimage\\_shared\\utils.py:394\u001b[0m, in \u001b[0;36mchannel_as_last_axis.__call__.<locals>.fixed_func\u001b[1;34m(*args, **kwargs)\u001b[0m\n\u001b[0;32m    391\u001b[0m channel_axis \u001b[38;5;241m=\u001b[39m kwargs\u001b[38;5;241m.\u001b[39mget(\u001b[38;5;124m'\u001b[39m\u001b[38;5;124mchannel_axis\u001b[39m\u001b[38;5;124m'\u001b[39m, \u001b[38;5;28;01mNone\u001b[39;00m)\n\u001b[0;32m    393\u001b[0m \u001b[38;5;28;01mif\u001b[39;00m channel_axis \u001b[38;5;129;01mis\u001b[39;00m \u001b[38;5;28;01mNone\u001b[39;00m:\n\u001b[1;32m--> 394\u001b[0m     \u001b[38;5;28;01mreturn\u001b[39;00m func(\u001b[38;5;241m*\u001b[39margs, \u001b[38;5;241m*\u001b[39m\u001b[38;5;241m*\u001b[39mkwargs)\n\u001b[0;32m    396\u001b[0m \u001b[38;5;66;03m# TODO: convert scalars to a tuple in anticipation of eventually\u001b[39;00m\n\u001b[0;32m    397\u001b[0m \u001b[38;5;66;03m#       supporting a tuple of channel axes. Right now, only an\u001b[39;00m\n\u001b[0;32m    398\u001b[0m \u001b[38;5;66;03m#       integer or a single-element tuple is supported, though.\u001b[39;00m\n\u001b[0;32m    399\u001b[0m \u001b[38;5;28;01mif\u001b[39;00m np\u001b[38;5;241m.\u001b[39misscalar(channel_axis):\n",
      "File \u001b[1;32m~\\AppData\\Local\\Packages\\PythonSoftwareFoundation.Python.3.9_qbz5n2kfra8p0\\LocalCache\\local-packages\\Python39\\site-packages\\skimage\\color\\colorconv.py:746\u001b[0m, in \u001b[0;36mrgb2xyz\u001b[1;34m(rgb, channel_axis)\u001b[0m\n\u001b[0;32m    705\u001b[0m \u001b[38;5;124;03m\"\"\"RGB to XYZ color space conversion.\u001b[39;00m\n\u001b[0;32m    706\u001b[0m \n\u001b[0;32m    707\u001b[0m \u001b[38;5;124;03mParameters\u001b[39;00m\n\u001b[1;32m   (...)\u001b[0m\n\u001b[0;32m    742\u001b[0m \u001b[38;5;124;03m>>> img_xyz = rgb2xyz(img)\u001b[39;00m\n\u001b[0;32m    743\u001b[0m \u001b[38;5;124;03m\"\"\"\u001b[39;00m\n\u001b[0;32m    744\u001b[0m \u001b[38;5;66;03m# Follow the algorithm from http://www.easyrgb.com/index.php\u001b[39;00m\n\u001b[0;32m    745\u001b[0m \u001b[38;5;66;03m# except we don't multiply/divide by 100 in the conversion\u001b[39;00m\n\u001b[1;32m--> 746\u001b[0m arr \u001b[38;5;241m=\u001b[39m \u001b[43m_prepare_colorarray\u001b[49m\u001b[43m(\u001b[49m\u001b[43mrgb\u001b[49m\u001b[43m,\u001b[49m\u001b[43m \u001b[49m\u001b[43mchannel_axis\u001b[49m\u001b[38;5;241;43m=\u001b[39;49m\u001b[38;5;241;43m-\u001b[39;49m\u001b[38;5;241;43m1\u001b[39;49m\u001b[43m)\u001b[49m\u001b[38;5;241m.\u001b[39mcopy()\n\u001b[0;32m    747\u001b[0m mask \u001b[38;5;241m=\u001b[39m arr \u001b[38;5;241m>\u001b[39m \u001b[38;5;241m0.04045\u001b[39m\n\u001b[0;32m    748\u001b[0m arr[mask] \u001b[38;5;241m=\u001b[39m np\u001b[38;5;241m.\u001b[39mpower((arr[mask] \u001b[38;5;241m+\u001b[39m \u001b[38;5;241m0.055\u001b[39m) \u001b[38;5;241m/\u001b[39m \u001b[38;5;241m1.055\u001b[39m, \u001b[38;5;241m2.4\u001b[39m)\n",
      "File \u001b[1;32m~\\AppData\\Local\\Packages\\PythonSoftwareFoundation.Python.3.9_qbz5n2kfra8p0\\LocalCache\\local-packages\\Python39\\site-packages\\skimage\\color\\colorconv.py:140\u001b[0m, in \u001b[0;36m_prepare_colorarray\u001b[1;34m(arr, force_copy, channel_axis)\u001b[0m\n\u001b[0;32m    137\u001b[0m \u001b[38;5;28;01mif\u001b[39;00m arr\u001b[38;5;241m.\u001b[39mshape[channel_axis] \u001b[38;5;241m!=\u001b[39m \u001b[38;5;241m3\u001b[39m:\n\u001b[0;32m    138\u001b[0m     msg \u001b[38;5;241m=\u001b[39m (\u001b[38;5;124mf\u001b[39m\u001b[38;5;124m'\u001b[39m\u001b[38;5;124mthe input array must have size 3 along `channel_axis`, \u001b[39m\u001b[38;5;124m'\u001b[39m\n\u001b[0;32m    139\u001b[0m            \u001b[38;5;124mf\u001b[39m\u001b[38;5;124m'\u001b[39m\u001b[38;5;124mgot \u001b[39m\u001b[38;5;132;01m{\u001b[39;00marr\u001b[38;5;241m.\u001b[39mshape\u001b[38;5;132;01m}\u001b[39;00m\u001b[38;5;124m'\u001b[39m)\n\u001b[1;32m--> 140\u001b[0m     \u001b[38;5;28;01mraise\u001b[39;00m \u001b[38;5;167;01mValueError\u001b[39;00m(msg)\n\u001b[0;32m    142\u001b[0m float_dtype \u001b[38;5;241m=\u001b[39m _supported_float_type(arr\u001b[38;5;241m.\u001b[39mdtype)\n\u001b[0;32m    143\u001b[0m \u001b[38;5;28;01mif\u001b[39;00m float_dtype \u001b[38;5;241m==\u001b[39m np\u001b[38;5;241m.\u001b[39mfloat32:\n",
      "\u001b[1;31mValueError\u001b[0m: the input array must have size 3 along `channel_axis`, got (512, 512, 1)"
     ]
    }
   ],
   "source": [
    "img = X_train[0]\n",
    "\n",
    "segments_fz = felzenszwalb(img, scale=100, sigma=0.5, min_size=50)\n",
    "segments_slic = slic(img, n_segments=250, compactness=10, sigma=1,\n",
    "                     start_label=1)\n",
    "segments_quick = quickshift(img, kernel_size=3, max_dist=6, ratio=0.5)\n",
    "gradient = sobel(rgb2gray(img))\n",
    "segments_watershed = watershed(gradient, markers=250, compactness=0.001)\n",
    "\n",
    "print(f'Felzenszwalb number of segments: {len(np.unique(segments_fz))}')\n",
    "print(f'SLIC number of segments: {len(np.unique(segments_slic))}')\n",
    "print(f'Quickshift number of segments: {len(np.unique(segments_quick))}')\n",
    "\n",
    "fig, ax = plt.subplots(2, 2, figsize=(10, 10), sharex=True, sharey=True)\n",
    "\n",
    "ax[0, 0].imshow(mark_boundaries(img, segments_fz))\n",
    "ax[0, 0].set_title(\"Felzenszwalbs's method\")\n",
    "ax[0, 1].imshow(mark_boundaries(img, segments_slic))\n",
    "ax[0, 1].set_title('SLIC')\n",
    "ax[1, 0].imshow(mark_boundaries(img, segments_quick))\n",
    "ax[1, 0].set_title('Quickshift')\n",
    "ax[1, 1].imshow(mark_boundaries(img, segments_watershed))\n",
    "ax[1, 1].set_title('Compact watershed')\n",
    "\n",
    "for a in ax.ravel():\n",
    "    a.set_axis_off()\n",
    "\n",
    "plt.tight_layout()\n",
    "plt.show()"
   ]
  }
 ],
 "metadata": {
  "kernelspec": {
   "display_name": "Python 3 (ipykernel)",
   "language": "python",
   "name": "python3"
  },
  "language_info": {
   "codemirror_mode": {
    "name": "ipython",
    "version": 3
   },
   "file_extension": ".py",
   "mimetype": "text/x-python",
   "name": "python",
   "nbconvert_exporter": "python",
   "pygments_lexer": "ipython3",
   "version": "3.9.13"
  }
 },
 "nbformat": 4,
 "nbformat_minor": 2
}
